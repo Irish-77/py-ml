{
 "cells": [
  {
   "cell_type": "markdown",
   "metadata": {},
   "source": [
    "# Tutorial: Neural Networks for Image Classification without Convolution"
   ]
  },
  {
   "cell_type": "code",
   "execution_count": 1,
   "metadata": {},
   "outputs": [],
   "source": [
    "# Change directory, only necessary for this notebook\n",
    "import sys, os\n",
    "sys.path.insert(0,os.path.abspath('../../../'))"
   ]
  },
  {
   "cell_type": "markdown",
   "metadata": {},
   "source": [
    "## Imports"
   ]
  },
  {
   "cell_type": "code",
   "execution_count": 2,
   "metadata": {},
   "outputs": [],
   "source": [
    "import pandas as pd\n",
    "import numpy as np\n",
    "import mnist\n",
    "import scipy.misc\n",
    "\n",
    "from PIL import Image\n",
    "\n",
    "from pyml.neural_network.nn import NN\n",
    "from pyml.neural_network.layer.transformation import *\n",
    "from pyml.neural_network.layer.activation import *\n",
    "from pyml.neural_network.optimizer import *\n",
    "from pyml.neural_network.loss import *\n",
    "from pyml.utils.accuracy import *"
   ]
  },
  {
   "cell_type": "markdown",
   "metadata": {},
   "source": [
    "## Prepare data"
   ]
  },
  {
   "cell_type": "code",
   "execution_count": 3,
   "metadata": {},
   "outputs": [],
   "source": [
    "train_images = mnist.train_images()\n",
    "train_labels = mnist.train_labels()\n",
    "\n",
    "test_images = mnist.test_images()\n",
    "test_labels = mnist.test_labels()"
   ]
  },
  {
   "cell_type": "markdown",
   "metadata": {},
   "source": [
    "### Normalize data"
   ]
  },
  {
   "cell_type": "code",
   "execution_count": 4,
   "metadata": {},
   "outputs": [],
   "source": [
    "train_images = train_images.astype('float32') / 255\n",
    "test_images = test_images.astype('float32') / 255"
   ]
  },
  {
   "cell_type": "markdown",
   "metadata": {},
   "source": [
    "### Reshape data"
   ]
  },
  {
   "cell_type": "code",
   "execution_count": 5,
   "metadata": {},
   "outputs": [],
   "source": [
    "train_images = train_images.reshape(-1, 28*28)\n",
    "test_images = test_images.reshape(-1, 28*28)"
   ]
  },
  {
   "cell_type": "markdown",
   "metadata": {},
   "source": [
    "## Build the neural network"
   ]
  },
  {
   "cell_type": "code",
   "execution_count": 6,
   "metadata": {},
   "outputs": [],
   "source": [
    "model = NN()\n",
    "\n",
    "model.add_layer(Dense(28 * 28, 512))\n",
    "model.add_layer(ReLU())\n",
    "model.add_layer(Dropout(0.2))\n",
    "model.add_layer(Dense(512, 10))\n",
    "model.add_layer(Softmax())\n",
    "\n",
    "model.set_loss(CategoricalCrossentropy())\n",
    "model.set_optimizer(SGD(learning_rate=0.001, momentum=0.98))\n",
    "model.set_accuracy(MultiClassAccuracy())\n",
    "\n",
    "model.build()"
   ]
  },
  {
   "cell_type": "code",
   "execution_count": 7,
   "metadata": {},
   "outputs": [
    {
     "name": "stdout",
     "output_type": "stream",
     "text": [
      "training: Epoch: 0/5\n",
      "epoch, acc: 0.490, loss: 2.221 (data_loss: 2.221, reg_loss: 0.000), lr: 0.001\n",
      "validation, acc: 0.625, loss: 1.993 (data_loss: - - -, reg_loss: - - -), lr: - - -\n",
      "training: Epoch: 1/5\n",
      "epoch, acc: 0.679, loss: 1.717 (data_loss: 1.717, reg_loss: 0.000), lr: 0.001\n",
      "validation, acc: 0.688, loss: 1.113 (data_loss: - - -, reg_loss: - - -), lr: - - -\n",
      "training: Epoch: 2/5\n",
      "epoch, acc: 0.772, loss: 1.057 (data_loss: 1.057, reg_loss: 0.000), lr: 0.001\n",
      "validation, acc: 0.688, loss: 0.752 (data_loss: - - -, reg_loss: - - -), lr: - - -\n",
      "training: Epoch: 3/5\n",
      "epoch, acc: 0.819, loss: 0.753 (data_loss: 0.753, reg_loss: 0.000), lr: 0.001\n",
      "validation, acc: 0.750, loss: 0.626 (data_loss: - - -, reg_loss: - - -), lr: - - -\n",
      "training: Epoch: 4/5\n",
      "epoch, acc: 0.844, loss: 0.614 (data_loss: 0.614, reg_loss: 0.000), lr: 0.001\n",
      "validation, acc: 0.875, loss: 0.554 (data_loss: - - -, reg_loss: - - -), lr: - - -\n"
     ]
    }
   ],
   "source": [
    "model.train(\n",
    "    train_images, \n",
    "    train_labels, \n",
    "    validation_data=(test_images, test_labels), \n",
    "    epochs=5, \n",
    "    batch_size=16, \n",
    "    print_summary_every=1, \n",
    "    verbose=1\n",
    ")"
   ]
  },
  {
   "cell_type": "markdown",
   "metadata": {},
   "source": [
    "## Test the model on a single image"
   ]
  },
  {
   "cell_type": "code",
   "execution_count": 8,
   "metadata": {},
   "outputs": [],
   "source": [
    "# Image number in test set\n",
    "i = 90\n",
    "\n",
    "# Factor by which the image is scaled for better representation\n",
    "resize_factor = 10"
   ]
  },
  {
   "cell_type": "code",
   "execution_count": 9,
   "metadata": {},
   "outputs": [
    {
     "name": "stdout",
     "output_type": "stream",
     "text": [
      "Image of the number 3\n",
      "The prediction is 3\n"
     ]
    },
    {
     "data": {
      "image/jpeg": "[encoded data removed]",
      "image/png": "[encoded data removed]",
      "text/plain": [
       "<PIL.Image.Image image mode=L size=280x280>"
      ]
     },
     "execution_count": 9,
     "metadata": {},
     "output_type": "execute_result"
    }
   ],
   "source": [
    "img = (test_images[i].reshape(28, 28) * 255 / np.max(test_images[i])).astype('uint8')\n",
    "\n",
    "pred = np.argmax(model.predict(test_images[i]))\n",
    "\n",
    "print(f'Image of the number {test_labels[i]}')\n",
    "print(f'The prediction is {pred}')\n",
    "\n",
    "Image.fromarray(img).resize((28*resize_factor, 28*resize_factor))"
   ]
  }
 ],
 "metadata": {
  "kernelspec": {
   "display_name": ".venv",
   "language": "python",
   "name": "python3"
  },
  "language_info": {
   "codemirror_mode": {
    "name": "ipython",
    "version": 3
   },
   "file_extension": ".py",
   "mimetype": "text/x-python",
   "name": "python",
   "nbconvert_exporter": "python",
   "pygments_lexer": "ipython3",
   "version": "3.11.3"
  },
  "orig_nbformat": 4
 },
 "nbformat": 4,
 "nbformat_minor": 2
}
